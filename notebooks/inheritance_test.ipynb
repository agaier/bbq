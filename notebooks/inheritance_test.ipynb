{
 "cells": [
  {
   "cell_type": "code",
   "execution_count": 1,
   "metadata": {
    "deletable": true,
    "editable": true,
    "tags": []
   },
   "outputs": [],
   "source": [
    "%matplotlib inline\n",
    "%load_ext autoreload\n",
    "%autoreload 2\n",
    "from IPython.display import clear_output\n",
    "from matplotlib import pyplot as plt\n",
    "import numpy as np\n",
    "np.set_printoptions(precision=2) \n",
    "np.set_printoptions(linewidth=160)\n",
    "%config InlineBackend.print_figure_kwargs={'facecolor' : \"w\", 'bbox_inches': 'tight'}"
   ]
  },
  {
   "cell_type": "code",
   "execution_count": 42,
   "metadata": {},
   "outputs": [
    {
     "name": "stdout",
     "output_type": "stream",
     "text": [
      "5\n",
      "nope\n",
      "BASE\n",
      "25\n",
      "test\n",
      "EXT\n",
      "\n",
      "\n",
      "5\n",
      "nope\n",
      "25\n",
      "test\n",
      "test\n",
      "EXT\n"
     ]
    }
   ],
   "source": [
    "class BaseClass():\n",
    "    def __init__(self, a):\n",
    "        self.a = a\n",
    "        self.name = \"nope\"\n",
    "        print(self.a)\n",
    "        print(self.name)\n",
    "        \n",
    "    def aa(self):\n",
    "        print(\"BASE\")\n",
    "        \n",
    "class Extension():\n",
    "    def __init__(self, b, name):\n",
    "        self.b = b**2\n",
    "        self.name = name\n",
    "        print(self.b)\n",
    "        print(self.name)\n",
    "\n",
    "    def aa(self):\n",
    "        print(\"EXT\")        \n",
    "            \n",
    "        \n",
    "class Extended(Extension, BaseClass):\n",
    "    def __init__(self, a, b, name):\n",
    "        BaseClass.__init__(self, a)\n",
    "        Extension.__init__(self, b, name)\n",
    "        \n",
    "        \n",
    "        \n",
    "A = BaseClass(5)\n",
    "A.aa()\n",
    "\n",
    "B = Extension(5,'test')\n",
    "B.aa()\n",
    "\n",
    "print('\\n')\n",
    "C = Extended(5,5,'test')\n",
    "print(C.name)\n",
    "C.aa()\n"
   ]
  },
  {
   "cell_type": "code",
   "execution_count": null,
   "metadata": {},
   "outputs": [],
   "source": []
  }
 ],
 "metadata": {
  "kernelspec": {
   "display_name": "Python 3 (ipykernel)",
   "language": "python",
   "name": "python3"
  },
  "language_info": {
   "codemirror_mode": {
    "name": "ipython",
    "version": 3
   },
   "file_extension": ".py",
   "mimetype": "text/x-python",
   "name": "python",
   "nbconvert_exporter": "python",
   "pygments_lexer": "ipython3",
   "version": "3.8.13"
  }
 },
 "nbformat": 4,
 "nbformat_minor": 4
}
